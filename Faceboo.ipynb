{
 "cells": [
  {
   "cell_type": "code",
   "execution_count": 2,
   "metadata": {},
   "outputs": [],
   "source": [
    "from selenium import webdriver \n",
    "from time import sleep \n",
    "from webdriver_manager.chrome import ChromeDriverManager \n",
    "from selenium.webdriver.chrome.options import Options\n",
    "# import urllib2\n",
    "from urllib.request import urlopen\n",
    "from bs4 import BeautifulSoup\n",
    "# from BeautifulSoup import BeautifulSoup"
   ]
  },
  {
   "cell_type": "code",
   "execution_count": 1,
   "metadata": {},
   "outputs": [
    {
     "ename": "NameError",
     "evalue": "name 'webdriver' is not defined",
     "output_type": "error",
     "traceback": [
      "\u001b[0;31m---------------------------------------------------------------------------\u001b[0m",
      "\u001b[0;31mNameError\u001b[0m                                 Traceback (most recent call last)",
      "\u001b[0;32m<ipython-input-1-cf626a343b60>\u001b[0m in \u001b[0;36m<module>\u001b[0;34m\u001b[0m\n\u001b[1;32m      1\u001b[0m \u001b[0;31m# pip install webdriver-manager\u001b[0m\u001b[0;34m\u001b[0m\u001b[0;34m\u001b[0m\u001b[0;34m\u001b[0m\u001b[0m\n\u001b[0;32m----> 2\u001b[0;31m \u001b[0mdriver\u001b[0m \u001b[0;34m=\u001b[0m \u001b[0mwebdriver\u001b[0m\u001b[0;34m.\u001b[0m\u001b[0mChrome\u001b[0m\u001b[0;34m(\u001b[0m\u001b[0mChromeDriverManager\u001b[0m\u001b[0;34m(\u001b[0m\u001b[0;34m)\u001b[0m\u001b[0;34m.\u001b[0m\u001b[0minstall\u001b[0m\u001b[0;34m(\u001b[0m\u001b[0;34m)\u001b[0m\u001b[0;34m)\u001b[0m\u001b[0;34m\u001b[0m\u001b[0;34m\u001b[0m\u001b[0m\n\u001b[0m\u001b[1;32m      3\u001b[0m \u001b[0mdriver\u001b[0m\u001b[0;34m.\u001b[0m\u001b[0mget\u001b[0m\u001b[0;34m(\u001b[0m\u001b[0;34m'https://www.facebook.com/'\u001b[0m\u001b[0;34m)\u001b[0m\u001b[0;34m\u001b[0m\u001b[0;34m\u001b[0m\u001b[0m\n\u001b[1;32m      4\u001b[0m \u001b[0mprint\u001b[0m \u001b[0;34m(\u001b[0m\u001b[0;34m\"Opened facebook\"\u001b[0m\u001b[0;34m)\u001b[0m\u001b[0;34m\u001b[0m\u001b[0;34m\u001b[0m\u001b[0m\n\u001b[1;32m      5\u001b[0m \u001b[0msleep\u001b[0m\u001b[0;34m(\u001b[0m\u001b[0;36m2\u001b[0m\u001b[0;34m)\u001b[0m\u001b[0;34m\u001b[0m\u001b[0;34m\u001b[0m\u001b[0m\n",
      "\u001b[0;31mNameError\u001b[0m: name 'webdriver' is not defined"
     ]
    }
   ],
   "source": [
    "# pip install webdriver-manager\n",
    "driver = webdriver.Chrome(ChromeDriverManager().install()) \n",
    "driver.get('https://www.facebook.com/') \n",
    "print (\"Opened facebook\") \n",
    "sleep(2) "
   ]
  },
  {
   "cell_type": "code",
   "execution_count": null,
   "metadata": {},
   "outputs": [],
   "source": [
    "usr=input('Enter Email Id:')  \n",
    "pwd=input('Enter Password:')  "
   ]
  },
  {
   "cell_type": "code",
   "execution_count": null,
   "metadata": {},
   "outputs": [],
   "source": [
    "username_box = driver.find_element_by_id('email') \n",
    "username_box.send_keys(usr) \n",
    "print (\"Email Id entered\") \n",
    "sleep(1) "
   ]
  },
  {
   "cell_type": "code",
   "execution_count": null,
   "metadata": {},
   "outputs": [],
   "source": [
    "password_box = driver.find_element_by_id('pass') \n",
    "password_box.send_keys(pwd) \n",
    "print (\"Password entered\") \n",
    "login_box = driver.find_element_by_name(\"login\")\n",
    "login_box.click() \n",
    "print (\"Done\") "
   ]
  },
  {
   "cell_type": "code",
   "execution_count": null,
   "metadata": {},
   "outputs": [],
   "source": [
    "url  =\"https://web.facebook.com/media/set/?vanity=rnssol&set=a.1866127926794528\"\n",
    "driver.get(url)\n"
   ]
  },
  {
   "cell_type": "code",
   "execution_count": null,
   "metadata": {},
   "outputs": [],
   "source": [
    "soup = BeautifulSoup(driver.page_source, \"lxml\")\n",
    "for img in soup.find_all(class_=\"k4urcfbm kr520xx4 pmk7jnqg bixrwtb6 datstx6m\"):\n",
    "    print(img.get(\"src\"))"
   ]
  },
  {
   "cell_type": "code",
   "execution_count": null,
   "metadata": {},
   "outputs": [],
   "source": [
    "len(soup.find_all(class_=\"k4urcfbm kr520xx4 pmk7jnqg bixrwtb6 datstx6m\"))"
   ]
  },
  {
   "cell_type": "code",
   "execution_count": null,
   "metadata": {},
   "outputs": [],
   "source": [
    "# soup.find_all(class_=\"k4urcfbm kr520xx4 pmk7jnqg bixrwtb6 datstx6m\")\n",
    "\n",
    "# for img in soup.find_all(class_=\"k4urcfbm kr520xx4 pmk7jnqg bixrwtb6 datstx6m\"):\n",
    "#     print(img.get(\"src\"))"
   ]
  },
  {
   "cell_type": "code",
   "execution_count": null,
   "metadata": {},
   "outputs": [],
   "source": [
    "print(len(soup.find_all(class_=\"k4urcfbm kr520xx4 pmk7jnqg bixrwtb6 datstx6m\")))\n",
    "import time"
   ]
  },
  {
   "cell_type": "code",
   "execution_count": null,
   "metadata": {},
   "outputs": [],
   "source": [
    "from textwrap import dedent\n",
    "images = driver.find_elements_by_tag_name('img')\n",
    "len(images)"
   ]
  },
  {
   "cell_type": "code",
   "execution_count": null,
   "metadata": {},
   "outputs": [],
   "source": [
    "# scroll_down(driver)\n"
   ]
  },
  {
   "cell_type": "code",
   "execution_count": null,
   "metadata": {},
   "outputs": [],
   "source": [
    "print(driver.execute_script(\"window.scrollTo(0,document.body.scrollHeight)\"))"
   ]
  },
  {
   "cell_type": "code",
   "execution_count": null,
   "metadata": {},
   "outputs": [],
   "source": [
    "driver.execute_script(\"return document.documentElement.scrollHeight\")\n"
   ]
  },
  {
   "cell_type": "code",
   "execution_count": null,
   "metadata": {},
   "outputs": [],
   "source": [
    "element = driver.find_element_by_xpath('//div[@class=\"eg9m0zos ni8dbmo4 d2edcug0 cbu4d94t\"]')\n",
    "driver.execute_script(\"return arguments[0].scrollIntoView(true);\", element)"
   ]
  },
  {
   "cell_type": "code",
   "execution_count": null,
   "metadata": {},
   "outputs": [],
   "source": [
    "driver.execute_script(\"window.scrollTo(0, 0);\")"
   ]
  },
  {
   "cell_type": "code",
   "execution_count": null,
   "metadata": {},
   "outputs": [],
   "source": [
    "import pyautogui\n",
    "pyautogui.scroll(10) "
   ]
  },
  {
   "cell_type": "code",
   "execution_count": null,
   "metadata": {},
   "outputs": [],
   "source": [
    "pip install pyautogui"
   ]
  },
  {
   "cell_type": "code",
   "execution_count": null,
   "metadata": {},
   "outputs": [],
   "source": [
    "lastImage = image =1\n",
    "while True:\n",
    "    target = driver.find_element_by_xpath('//div[@class=\"eg9m0zos ni8dbmo4 d2edcug0 cbu4d94t\"]')\n",
    "    # target = driver.find_element_by_class_name(\"eg9m0zos ni8dbmo4 d2edcug0 cbu4d94t\")\n",
    "    time.sleep(1)\n",
    "    driver.execute_script('arguments[0].scrollTop = arguments[0].scrollHeight', target)\n",
    "    driver.implicitly_wait(1)\n",
    "    time.sleep(1)     \n",
    "    images = driver.find_elements_by_tag_name('img')\n",
    "    print(len(images))\n",
    "    if lastImage == len(images):\n",
    "        print(lastImage)\n",
    "        break\n",
    "    lastImage =len(images)"
   ]
  },
  {
   "cell_type": "code",
   "execution_count": null,
   "metadata": {},
   "outputs": [],
   "source": [
    "for image in images:\n",
    "    print(image.get_attribute('src'))"
   ]
  },
  {
   "cell_type": "code",
   "execution_count": null,
   "metadata": {},
   "outputs": [],
   "source": []
  },
  {
   "cell_type": "code",
   "execution_count": null,
   "metadata": {},
   "outputs": [],
   "source": [
    "def scroll_down(driver):\n",
    "    \"\"\"A method for scrolling the page.\"\"\"\n",
    "\n",
    "    # Get scroll height.\n",
    "    last_height = driver.execute_script(\"return document.body.scrollHeight\")\n",
    "    print(last_height)\n",
    "    while True:\n",
    "\n",
    "        # Scroll down to the bottom.\n",
    "        driver.execute_script(\"window.scrollTo(0, document.body.scrollHeight);\")\n",
    "\n",
    "        # Wait to load the page.\n",
    "        time.sleep(2)\n",
    "\n",
    "        # Calculate new scroll height and compare with last scroll height.\n",
    "        new_height = driver.execute_script(\"return document.body.scrollHeight\")\n",
    "        print(new_height)\n",
    "        if new_height == last_height:\n",
    "            break\n",
    "        last_height = new_height\n",
    "        "
   ]
  },
  {
   "cell_type": "code",
   "execution_count": null,
   "metadata": {},
   "outputs": [],
   "source": [
    "# driver.execute_async_script(dedent('''\n",
    "#         function extractCSSURL(text) {\n",
    "#             var url_str = text.replace(/.*url\\((.*)\\).*/, '$1');\n",
    "#             if (url_str[0] === '\"') {\n",
    "#                 return JSON.parse(url_str);\n",
    "#             }\n",
    "#             if (url_str[0] === \"'\") {\n",
    "#                 return JSON.parse(\n",
    "#                     url_str\n",
    "#                         .replace(/'/g, '__DOUBLE__QUOTE__HERE__')\n",
    "#                         .replace(/\"/g, \"'\")\n",
    "#                         .replace(/__DOUBLE__QUOTE__HERE__/g, '\"')\n",
    "#                 );\n",
    "#             }\n",
    "#             return url_str;\n",
    "#         }\n",
    "#         function imageResolved(url) {\n",
    "#             return new $.Deferred(function (d) {\n",
    "#                 var img = new Image();\n",
    "#                 img.onload = img.onload = function () {\n",
    "#                     d.resolve(url);\n",
    "#                 };\n",
    "#                 img.src = url;\n",
    "#                 if (img.complete) {\n",
    "#                     d.resolve(url);\n",
    "#                 }\n",
    "#             }).promise();\n",
    "#         }\n",
    "#         var callback = arguments[arguments.length - 1];\n",
    "#         $.when.apply($, [].concat(\n",
    "#             $('img[src]')\n",
    "#                 .map(function (elem) { return $(this).attr('src'); })\n",
    "#                 .toArray(),\n",
    "#             $('[style*=\"url(\"]')\n",
    "#                 .map(function () { return extractCSSURL($(this).attr('style')); })\n",
    "#                 .toArray()\n",
    "#                 .map(function (url) { return imageResolved(url); })\n",
    "#         )).then(function () { callback(arguments); });\n",
    "#         return undefined;\n",
    "#     '''))"
   ]
  },
  {
   "cell_type": "code",
   "execution_count": null,
   "metadata": {},
   "outputs": [],
   "source": []
  },
  {
   "cell_type": "code",
   "execution_count": null,
   "metadata": {},
   "outputs": [],
   "source": []
  },
  {
   "cell_type": "code",
   "execution_count": null,
   "metadata": {},
   "outputs": [],
   "source": [
    "input('Press anything to quit') \n",
    "driver.quit() \n",
    "print(\"Finished\") "
   ]
  },
  {
   "cell_type": "code",
   "execution_count": null,
   "metadata": {},
   "outputs": [],
   "source": [
    "chrome_options = webdriver.ChromeOptions()\n",
    "\n",
    "#This is how you can make the browser headless\n",
    "chrome_options.add_argument(\"--headless\")\n",
    "prefs = {\"profile.default_content_setting_values.notifications\" : 2}\n",
    "chrome_options.add_experimental_option(\"prefs\",prefs)\n",
    "driver = webdriver.Chrome(executable_path=\"C:\\\\Users\\\\Facit\\\\Downloads\\\\chromedriver_win32\\\\chromedriver.exe\")"
   ]
  },
  {
   "cell_type": "code",
   "execution_count": null,
   "metadata": {},
   "outputs": [],
   "source": [
    "usr=input('Enter Email Id:')  \n",
    "pwd=input('Enter Password:')  \n",
    "  \n",
    "# driver = webdriver.Chrome(ChromeDriverManager().install()) \n",
    "# driver.get('https://www.facebook.com/') \n",
    "print (\"Opened facebook\") \n",
    "sleep(1) "
   ]
  },
  {
   "cell_type": "code",
   "execution_count": null,
   "metadata": {},
   "outputs": [],
   "source": [
    "username_box = driver.find_element_by_id('email') \n",
    "username_box.send_keys(usr) \n",
    "print (\"Email Id entered\") \n",
    "sleep(1) "
   ]
  },
  {
   "cell_type": "code",
   "execution_count": null,
   "metadata": {},
   "outputs": [],
   "source": []
  }
 ],
 "metadata": {
  "kernelspec": {
   "display_name": "Python 3",
   "language": "python",
   "name": "python3"
  },
  "language_info": {
   "codemirror_mode": {
    "name": "ipython",
    "version": 3
   },
   "file_extension": ".py",
   "mimetype": "text/x-python",
   "name": "python",
   "nbconvert_exporter": "python",
   "pygments_lexer": "ipython3",
   "version": "3.8.5"
  }
 },
 "nbformat": 4,
 "nbformat_minor": 2
}
